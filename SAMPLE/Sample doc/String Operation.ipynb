{
 "cells": [
  {
   "cell_type": "code",
   "execution_count": 14,
   "id": "c06245af",
   "metadata": {},
   "outputs": [
    {
     "name": "stdout",
     "output_type": "stream",
     "text": [
      "The original string is : TAMILNADU\n",
      "The reversed string(using loops) is : UDANLIMAT\n",
      "the concatenate string is-  HELLO  WORLD \n"
     ]
    }
   ],
   "source": [
    "'''\n",
    "************************************************REVERSE THE STRING************************************************************\n",
    "'''\n",
    "\n",
    "def reverse(s): \n",
    "\n",
    "    str = \"\" \n",
    "\n",
    "    for i in s: \n",
    "\n",
    "        str = i + str\n",
    "\n",
    "    return str\n",
    "\n",
    "\n",
    "s = \"TAMILNADU\"\n",
    "\n",
    "  \n",
    "\n",
    "print(\"The original string is : \", end=\"\") \n",
    "print(s) \n",
    "\n",
    "  \n",
    "print(\"The reversed string(using loops) is : \", end=\"\") \n",
    "print(reverse(s))\n",
    "\n",
    "\n",
    "'''\n",
    "*********************************************CONCATENATE THE STRING************************************************************\n",
    "'''\n",
    "\n",
    "\n",
    "def conca(x,y):\n",
    "    z= x+y\n",
    "    return z\n",
    "\n",
    "s1=\" HELLO \"\n",
    "s2=\" WORLD \"\n",
    "\n",
    "a=conca(s1,s2)\n",
    "print(\"the concatenate string is-\",a)"
   ]
  },
  {
   "cell_type": "code",
   "execution_count": null,
   "id": "80a2e2a4",
   "metadata": {},
   "outputs": [],
   "source": []
  },
  {
   "cell_type": "code",
   "execution_count": null,
   "id": "1ad9b81e",
   "metadata": {},
   "outputs": [],
   "source": []
  }
 ],
 "metadata": {
  "kernelspec": {
   "display_name": "Python 3 (ipykernel)",
   "language": "python",
   "name": "python3"
  },
  "language_info": {
   "codemirror_mode": {
    "name": "ipython",
    "version": 3
   },
   "file_extension": ".py",
   "mimetype": "text/x-python",
   "name": "python",
   "nbconvert_exporter": "python",
   "pygments_lexer": "ipython3",
   "version": "3.9.12"
  }
 },
 "nbformat": 4,
 "nbformat_minor": 5
}
